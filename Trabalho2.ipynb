{
 "cells": [
  {
   "cell_type": "markdown",
   "id": "c47ed361",
   "metadata": {},
   "source": [
    "## Previsão do preço de imóveis \n",
    "\n",
    "### O projeto busca identificar o valor de um imóvel a partir de suas características."
   ]
  },
  {
   "cell_type": "markdown",
   "id": "b5dcfe58",
   "metadata": {},
   "source": [
    "### Importando bibliotecas"
   ]
  },
  {
   "cell_type": "code",
   "execution_count": 1,
   "id": "08e56734",
   "metadata": {},
   "outputs": [],
   "source": [
    "import pandas as pd\n",
    "import numpy as np\n",
    "from sklearn.neighbors import KNeighborsRegressor\n",
    "from sklearn.preprocessing import LabelBinarizer\n",
    "from sklearn.model_selection import train_test_split\n",
    "from sklearn.preprocessing import MinMaxScaler\n",
    "from sklearn.model_selection import cross_val_score\n",
    "from sklearn.metrics import confusion_matrix\n",
    "from sklearn.model_selection import GridSearchCV\n",
    "from sklearn.ensemble import RandomForestRegressor\n",
    "from sklearn.ensemble import GradientBoostingRegressor\n",
    "from sklearn.metrics import mean_squared_error"
   ]
  },
  {
   "cell_type": "markdown",
   "id": "da23421e",
   "metadata": {},
   "source": [
    "### Importando dados"
   ]
  },
  {
   "cell_type": "code",
   "execution_count": 2,
   "id": "f112b3df",
   "metadata": {},
   "outputs": [],
   "source": [
    "dados = pd.read_csv(\"ImovelDados\\conjunto_de_treinamento.csv\")\n",
    "dados_teste = pd.read_csv(\"ImovelDados\\conjunto_de_teste.csv\")\n",
    "exemplo = pd.read_csv(\"ImovelDados\\exemplo_arquivo_respostas.csv\")\n"
   ]
  },
  {
   "cell_type": "markdown",
   "id": "3e5ac61c",
   "metadata": {},
   "source": [
    "### Limpando os dados\n",
    "\n",
    "\n",
    "#### Primeiramente foram retiradas as colunas indesejadas\n"
   ]
  },
  {
   "cell_type": "code",
   "execution_count": 3,
   "id": "96a3e13f",
   "metadata": {},
   "outputs": [],
   "source": [
    "dados.set_index('Id', inplace=True)\n",
    "dados_teste.set_index('Id', inplace=True)\n",
    "\n",
    "dados = dados.drop(['bairro', # One Hot encoding muito grande\n",
    "                    'diferenciais'],axis=1) # Informação já binarizada em outras colunas\n",
    "\n",
    "\n",
    "dados_teste = dados_teste.drop(['bairro', # One Hot encoding muito grande\n",
    "                                'diferenciais'],axis=1) # Informação já binarizada em outras colunas\n"
   ]
  },
  {
   "cell_type": "markdown",
   "id": "a810a8b6",
   "metadata": {},
   "source": [
    "#### Depois foi feita uma análise para avaliar médias de preço de cada coluna e se alguma coluna possuía valores nulos"
   ]
  },
  {
   "cell_type": "code",
   "execution_count": 4,
   "id": "d404071d",
   "metadata": {},
   "outputs": [
    {
     "name": "stdout",
     "output_type": "stream",
     "text": [
      "tipo\n",
      "Apartamento    4501\n",
      "Casa            177\n",
      "Loft              3\n",
      "Quitinete         2\n",
      "Name: tipo, dtype: int64\n",
      "tipo\n",
      "Apartamento    9.096723e+05\n",
      "Casa           1.404853e+06\n",
      "Loft           3.383333e+05\n",
      "Quitinete      1.675000e+05\n",
      "Name: preco, dtype: float64\n",
      "tipo_vendedor\n",
      "Imobiliaria      4556\n",
      "Pessoa Fisica     127\n",
      "Name: tipo_vendedor, dtype: int64\n",
      "tipo_vendedor\n",
      "Imobiliaria      7.101393e+05\n",
      "Pessoa Fisica    8.732672e+06\n",
      "Name: preco, dtype: float64\n",
      "quartos\n",
      "3    2278\n",
      "4    1226\n",
      "2     892\n",
      "1     189\n",
      "5      65\n",
      "6      21\n",
      "7       7\n",
      "8       3\n",
      "9       2\n",
      "Name: quartos, dtype: int64\n",
      "quartos\n",
      "1    6.547731e+05\n",
      "2    7.286897e+05\n",
      "3    8.067960e+05\n",
      "4    1.275856e+06\n",
      "5    1.763251e+06\n",
      "6    1.650905e+06\n",
      "7    1.655714e+06\n",
      "8    1.933333e+06\n",
      "9    9.750000e+05\n",
      "Name: preco, dtype: float64\n",
      "suites\n",
      "1    2725\n",
      "2     668\n",
      "0     563\n",
      "4     427\n",
      "3     278\n",
      "5      18\n",
      "6       4\n",
      "Name: suites, dtype: int64\n",
      "suites\n",
      "0    4.899762e+05\n",
      "1    6.050862e+05\n",
      "2    1.919670e+06\n",
      "3    1.150980e+06\n",
      "4    1.765574e+06\n",
      "5    3.001406e+06\n",
      "6    2.372500e+06\n",
      "Name: preco, dtype: float64\n",
      "vagas\n",
      "1     1977\n",
      "2     1651\n",
      "3      578\n",
      "0      286\n",
      "4      115\n",
      "5       41\n",
      "6       17\n",
      "8        5\n",
      "10       4\n",
      "7        2\n",
      "18       1\n",
      "30       1\n",
      "17       1\n",
      "13       1\n",
      "20       1\n",
      "12       1\n",
      "15       1\n",
      "Name: vagas, dtype: int64\n",
      "vagas\n",
      "0     8.251620e+05\n",
      "1     5.431959e+05\n",
      "2     1.097260e+06\n",
      "3     1.406149e+06\n",
      "4     2.219239e+06\n",
      "5     2.276341e+06\n",
      "6     1.843529e+06\n",
      "7     1.345000e+06\n",
      "8     1.184000e+06\n",
      "10    2.662500e+06\n",
      "12    4.500000e+06\n",
      "13    1.000000e+06\n",
      "15    2.800000e+06\n",
      "17    3.520000e+05\n",
      "18    7.000000e+05\n",
      "20    1.200000e+06\n",
      "30    5.250000e+05\n",
      "Name: preco, dtype: float64\n",
      "area_util\n",
      "70      89\n",
      "60      85\n",
      "55      83\n",
      "90      77\n",
      "75      74\n",
      "        ..\n",
      "321      1\n",
      "333      1\n",
      "337      1\n",
      "341      1\n",
      "1855     1\n",
      "Name: area_util, Length: 356, dtype: int64\n",
      "area_util\n",
      "21       350000.0\n",
      "23       192500.0\n",
      "24       237500.0\n",
      "25       203875.0\n",
      "26       206368.0\n",
      "          ...    \n",
      "1304     871250.0\n",
      "1580    4500000.0\n",
      "1705     680000.0\n",
      "1855    1200000.0\n",
      "2045     680000.0\n",
      "Name: preco, Length: 356, dtype: float64\n",
      "area_extra\n",
      "0      4134\n",
      "30       37\n",
      "20       30\n",
      "10       27\n",
      "40       15\n",
      "       ... \n",
      "69        1\n",
      "61        1\n",
      "45        1\n",
      "9         1\n",
      "415       1\n",
      "Name: area_extra, Length: 170, dtype: int64\n",
      "area_extra\n",
      "0        9.492448e+05\n",
      "1        2.347400e+05\n",
      "2        5.750000e+05\n",
      "3        5.470000e+05\n",
      "4        2.166667e+05\n",
      "             ...     \n",
      "1100     1.400000e+06\n",
      "1285     3.500000e+06\n",
      "1308     3.800000e+06\n",
      "4173     8.000000e+05\n",
      "17450    8.680000e+05\n",
      "Name: preco, Length: 170, dtype: float64\n",
      "churrasqueira\n",
      "0    3199\n",
      "1    1484\n",
      "Name: churrasqueira, dtype: int64\n",
      "churrasqueira\n",
      "0    8.141011e+05\n",
      "1    1.172597e+06\n",
      "Name: preco, dtype: float64\n",
      "estacionamento\n",
      "0    4539\n",
      "1     144\n",
      "Name: estacionamento, dtype: int64\n",
      "estacionamento\n",
      "0    939617.974252\n",
      "1    552208.048611\n",
      "Name: preco, dtype: float64\n",
      "piscina\n",
      "1    2602\n",
      "0    2081\n",
      "Name: piscina, dtype: int64\n",
      "piscina\n",
      "0    847727.555983\n",
      "1    991669.062310\n",
      "Name: preco, dtype: float64\n",
      "playground\n",
      "0    3946\n",
      "1     737\n",
      "Name: playground, dtype: int64\n",
      "playground\n",
      "0    983088.370028\n",
      "1    631176.710991\n",
      "Name: preco, dtype: float64\n",
      "quadra\n",
      "0    4500\n",
      "1     183\n",
      "Name: quadra, dtype: int64\n",
      "quadra\n",
      "0    936995.884918\n",
      "1    699248.426230\n",
      "Name: preco, dtype: float64\n",
      "s_festas\n",
      "0    4036\n",
      "1     647\n",
      "Name: s_festas, dtype: int64\n",
      "s_festas\n",
      "0    8.959713e+05\n",
      "1    1.125663e+06\n",
      "Name: preco, dtype: float64\n",
      "s_jogos\n",
      "0    4651\n",
      "1      32\n",
      "Name: s_jogos, dtype: int64\n",
      "s_jogos\n",
      "0    929917.923055\n",
      "1    606115.125000\n",
      "Name: preco, dtype: float64\n",
      "s_ginastica\n",
      "0    4619\n",
      "1      64\n",
      "Name: s_ginastica, dtype: int64\n",
      "s_ginastica\n",
      "0    930543.384743\n",
      "1    722875.781250\n",
      "Name: preco, dtype: float64\n",
      "sauna\n",
      "0    4232\n",
      "1     451\n",
      "Name: sauna, dtype: int64\n",
      "sauna\n",
      "0    923700.535475\n",
      "1    965284.430155\n",
      "Name: preco, dtype: float64\n",
      "vista_mar\n",
      "0    4555\n",
      "1     128\n",
      "Name: vista_mar, dtype: int64\n",
      "vista_mar\n",
      "0    9.142204e+05\n",
      "1    1.407578e+06\n",
      "Name: preco, dtype: float64\n",
      "preco\n",
      "350000.0     115\n",
      "550000.0     113\n",
      "400000.0     100\n",
      "450000.0      93\n",
      "650000.0      90\n",
      "            ... \n",
      "331685.0       1\n",
      "334000.0       1\n",
      "791574.0       1\n",
      "564200.0       1\n",
      "1110000.0      1\n",
      "Name: preco, Length: 679, dtype: int64\n",
      "preco\n",
      "750.0                750.0\n",
      "90000.0            90000.0\n",
      "98000.0            98000.0\n",
      "100000.0          100000.0\n",
      "120000.0          120000.0\n",
      "                  ...     \n",
      "6500000.0        6500000.0\n",
      "7100000.0        7100000.0\n",
      "65000000.0      65000000.0\n",
      "340000000.0    340000000.0\n",
      "630000000.0    630000000.0\n",
      "Name: preco, Length: 679, dtype: float64\n",
      "0\n",
      "0\n",
      "0\n",
      "0\n",
      "0\n",
      "0\n",
      "0\n",
      "0\n",
      "0\n",
      "0\n",
      "0\n",
      "0\n",
      "0\n",
      "0\n",
      "0\n",
      "0\n",
      "0\n",
      "0\n"
     ]
    }
   ],
   "source": [
    "for coluna in dados.columns:\n",
    "    print(coluna)\n",
    "    print(dados[coluna].value_counts())\n",
    "    print(dados.groupby(coluna).preco.mean())\n",
    "    \n",
    "for coluna in dados.columns:\n",
    "    print(pd.isnull(dados[coluna]).sum())"
   ]
  },
  {
   "cell_type": "markdown",
   "id": "5a3cadaf",
   "metadata": {},
   "source": [
    "#### Sabendo que alguns algoritmos necessitam que todos os dados sejam numéricos e não categóricos, foi utilizada a técnina de \"One-Hot Encoding\" para fazer esta conversão"
   ]
  },
  {
   "cell_type": "code",
   "execution_count": 5,
   "id": "a33fd213",
   "metadata": {},
   "outputs": [],
   "source": [
    "dados = pd.get_dummies(dados,columns=['tipo','tipo_vendedor'])\n",
    "\n",
    "dados_teste = pd.get_dummies(dados_teste,columns=['tipo',\n",
    "                                      'tipo_vendedor'])\n",
    "\n",
    "dados_teste['tipo_Quitinete'] = 0 # Adicionando coluna para deixar as tabelas de dados e dados_teste iguais\n",
    "\n"
   ]
  },
  {
   "cell_type": "markdown",
   "id": "967e869e",
   "metadata": {},
   "source": [
    "#### Colunas com diferenças nas médias menores que 2 foram então retiradas da tabela"
   ]
  },
  {
   "cell_type": "code",
   "execution_count": 6,
   "id": "e2d5ff24",
   "metadata": {},
   "outputs": [],
   "source": [
    "atributos_selecionados = ['quartos', \n",
    "                          'suites', \n",
    "                          'vagas', \n",
    "                          'area_util', \n",
    "                          'area_extra',\n",
    "                           'churrasqueira', \n",
    "                           'estacionamento', \n",
    "                           'piscina', \n",
    "                           'playground', \n",
    "                           'quadra',\n",
    "                           's_festas', \n",
    "                           's_jogos', \n",
    "                           's_ginastica', \n",
    "                           'sauna', \n",
    "                           'vista_mar',\n",
    "                           'tipo_Apartamento', \n",
    "                           'tipo_Casa', \n",
    "                           'tipo_Loft', \n",
    "                           'tipo_Quitinete',\n",
    "                           'tipo_vendedor_Imobiliaria', \n",
    "                           'tipo_vendedor_Pessoa Fisica',\n",
    "                           'preco']\n",
    "\n",
    "dados = dados[atributos_selecionados]\n",
    "dados_teste = dados_teste[atributos_selecionados[0:-1]]"
   ]
  },
  {
   "cell_type": "markdown",
   "id": "1f29da12",
   "metadata": {},
   "source": [
    "### Dividindo o dataset\n",
    "\n",
    "#### Separamos então a coluna alvo dos atributos, e em seguida os conjuntos de treinameno e de teste"
   ]
  },
  {
   "cell_type": "code",
   "execution_count": 7,
   "id": "72b316aa",
   "metadata": {},
   "outputs": [],
   "source": [
    "X = dados.iloc[:,dados.columns != 'preco'].values\n",
    "y = dados.iloc[:,dados.columns == 'preco'].values.ravel()\n",
    "\n",
    "\n",
    "X_train, X_test, y_train,y_test = train_test_split(X,y, train_size=3300, random_state = 42)"
   ]
  },
  {
   "cell_type": "markdown",
   "id": "cf6c5d0f",
   "metadata": {},
   "source": [
    "### Ajustando a escala\n",
    "\n",
    "#### Para evitar que atributos tenham pesos maiores que outros, precisamos ajustar a escala dos conjuntos de dados"
   ]
  },
  {
   "cell_type": "code",
   "execution_count": 8,
   "id": "87ae64c4",
   "metadata": {},
   "outputs": [],
   "source": [
    "scaler = MinMaxScaler()\n",
    "scaler.fit(X_train)\n",
    "\n",
    "X_train = scaler.transform(X_train)\n",
    "X_test = scaler.transform(X_test)\n",
    "\n",
    "scaler = MinMaxScaler()\n",
    "scaler.fit(X)\n",
    "X = scaler.transform(X)\n",
    "dados_teste = scaler.transform(dados_teste)"
   ]
  },
  {
   "cell_type": "markdown",
   "id": "735a17c9",
   "metadata": {},
   "source": [
    "### Avaliando resultados dos modelos\n",
    "\n",
    "#### Foi criada uma função para auxilar na visualização dos melhores parâmetros de um modelo escolhido, que neste caso foram o KNN, RandomForestRegressor e GradientBoostRegressor"
   ]
  },
  {
   "cell_type": "code",
   "execution_count": 9,
   "id": "c59ac916",
   "metadata": {},
   "outputs": [],
   "source": [
    "def resultados(grid):\n",
    "    results = pd.DataFrame(grid.cv_results_)\n",
    "    results.sort_values(by='rank_test_score', inplace=True)\n",
    "    results = results[['params','mean_test_score','std_test_score']].head()\n",
    "    \n",
    "    return results"
   ]
  },
  {
   "cell_type": "markdown",
   "id": "c6b934fa",
   "metadata": {},
   "source": [
    "#### E utilizando a função GridSearchCV encontramos os melhores modelos para cada algoritmo, utilizando como base de precisão seus respectivos RMSE"
   ]
  },
  {
   "cell_type": "code",
   "execution_count": 10,
   "id": "a606c519",
   "metadata": {},
   "outputs": [
    {
     "name": "stdout",
     "output_type": "stream",
     "text": [
      "Fitting 2 folds for each of 9 candidates, totalling 18 fits\n",
      "Fitting 35 folds for each of 66 candidates, totalling 2310 fits\n",
      "Fitting 5 folds for each of 15 candidates, totalling 75 fits\n"
     ]
    }
   ],
   "source": [
    "# RandomForest\n",
    "\n",
    "parametersRF = {\n",
    "    \"max_depth\":[2,4,10],\n",
    "    \"max_features\": ['auto'],\n",
    "    \"n_estimators\": [500],\n",
    "    \"min_samples_leaf\":[2,5,8],\n",
    "    \"criterion\":['mae'],\n",
    "    }\n",
    "\n",
    "gridRF = GridSearchCV(RandomForestRegressor(), parametersRF,  scoring='neg_mean_squared_error',cv=2, verbose=2, n_jobs =-1)\n",
    "gridRF.fit(X, y)\n",
    "\n",
    "resultadosRF = resultados(gridRF)\n",
    "bestRF = gridRF.best_estimator_\n",
    "bestRF.fit(X,y)\n",
    "respostaRF = bestRF.predict(dados_teste)\n",
    "\n",
    "\n",
    "# KNN\n",
    "\n",
    "parametersKNN = {\n",
    "    \"p\": [1,2],\n",
    "    \"n_neighbors\": list(range(200,851,20)),\n",
    "    'weights': ['uniform'],\n",
    "    'algorithm':['auto']\n",
    "    }\n",
    "\n",
    "gridknn = GridSearchCV(KNeighborsRegressor(), parametersKNN, scoring='neg_mean_squared_error', cv=35, verbose=2, n_jobs =-1)\n",
    "gridknn.fit(X,y)\n",
    "\n",
    "resultadosknn = resultados(gridknn)\n",
    "bestknn = gridknn.best_estimator_\n",
    "bestknn.fit(X,y)\n",
    "respostaknn = bestknn.predict(dados_teste)\n",
    "\n",
    "# Gradient Boost Classifier\n",
    "\n",
    "parametersGB = {\n",
    "    'learning_rate': [0.1,0.01,0.001],\n",
    "    \"n_estimators\": [750],\n",
    "    'max_depth': [1,4,7,10,13]\n",
    "    }\n",
    "gridGB = GridSearchCV(GradientBoostingRegressor(), parametersGB, scoring='neg_mean_squared_error', cv=5, verbose=2, n_jobs =-1)\n",
    "gridGB.fit(X, y)\n",
    "\n",
    "resultadosGB = resultados(gridGB)\n",
    "bestGB = gridGB.best_estimator_\n",
    "bestGB.fit(X,y)\n",
    "respostaGB = bestGB.predict(dados_teste)\n"
   ]
  },
  {
   "cell_type": "code",
   "execution_count": 15,
   "id": "56c0d1a4",
   "metadata": {},
   "outputs": [
    {
     "data": {
      "text/html": [
       "<div>\n",
       "<style scoped>\n",
       "    .dataframe tbody tr th:only-of-type {\n",
       "        vertical-align: middle;\n",
       "    }\n",
       "\n",
       "    .dataframe tbody tr th {\n",
       "        vertical-align: top;\n",
       "    }\n",
       "\n",
       "    .dataframe thead th {\n",
       "        text-align: right;\n",
       "    }\n",
       "</style>\n",
       "<table border=\"1\" class=\"dataframe\">\n",
       "  <thead>\n",
       "    <tr style=\"text-align: right;\">\n",
       "      <th></th>\n",
       "      <th>params</th>\n",
       "      <th>mean_test_score</th>\n",
       "      <th>std_test_score</th>\n",
       "    </tr>\n",
       "  </thead>\n",
       "  <tbody>\n",
       "    <tr>\n",
       "      <th>21</th>\n",
       "      <td>{'algorithm': 'auto', 'n_neighbors': 400, 'p':...</td>\n",
       "      <td>-1.103460e+14</td>\n",
       "      <td>5.087399e+14</td>\n",
       "    </tr>\n",
       "    <tr>\n",
       "      <th>19</th>\n",
       "      <td>{'algorithm': 'auto', 'n_neighbors': 380, 'p':...</td>\n",
       "      <td>-1.103467e+14</td>\n",
       "      <td>5.087219e+14</td>\n",
       "    </tr>\n",
       "    <tr>\n",
       "      <th>17</th>\n",
       "      <td>{'algorithm': 'auto', 'n_neighbors': 360, 'p':...</td>\n",
       "      <td>-1.103477e+14</td>\n",
       "      <td>5.087038e+14</td>\n",
       "    </tr>\n",
       "    <tr>\n",
       "      <th>11</th>\n",
       "      <td>{'algorithm': 'auto', 'n_neighbors': 300, 'p':...</td>\n",
       "      <td>-1.103489e+14</td>\n",
       "      <td>5.086320e+14</td>\n",
       "    </tr>\n",
       "    <tr>\n",
       "      <th>15</th>\n",
       "      <td>{'algorithm': 'auto', 'n_neighbors': 340, 'p':...</td>\n",
       "      <td>-1.103496e+14</td>\n",
       "      <td>5.086839e+14</td>\n",
       "    </tr>\n",
       "  </tbody>\n",
       "</table>\n",
       "</div>"
      ],
      "text/plain": [
       "                                               params  mean_test_score  \\\n",
       "21  {'algorithm': 'auto', 'n_neighbors': 400, 'p':...    -1.103460e+14   \n",
       "19  {'algorithm': 'auto', 'n_neighbors': 380, 'p':...    -1.103467e+14   \n",
       "17  {'algorithm': 'auto', 'n_neighbors': 360, 'p':...    -1.103477e+14   \n",
       "11  {'algorithm': 'auto', 'n_neighbors': 300, 'p':...    -1.103489e+14   \n",
       "15  {'algorithm': 'auto', 'n_neighbors': 340, 'p':...    -1.103496e+14   \n",
       "\n",
       "    std_test_score  \n",
       "21    5.087399e+14  \n",
       "19    5.087219e+14  \n",
       "17    5.087038e+14  \n",
       "11    5.086320e+14  \n",
       "15    5.086839e+14  "
      ]
     },
     "execution_count": 15,
     "metadata": {},
     "output_type": "execute_result"
    }
   ],
   "source": [
    "resultadosknn"
   ]
  },
  {
   "cell_type": "code",
   "execution_count": 12,
   "id": "dce1b984",
   "metadata": {
    "scrolled": true
   },
   "outputs": [
    {
     "data": {
      "text/html": [
       "<div>\n",
       "<style scoped>\n",
       "    .dataframe tbody tr th:only-of-type {\n",
       "        vertical-align: middle;\n",
       "    }\n",
       "\n",
       "    .dataframe tbody tr th {\n",
       "        vertical-align: top;\n",
       "    }\n",
       "\n",
       "    .dataframe thead th {\n",
       "        text-align: right;\n",
       "    }\n",
       "</style>\n",
       "<table border=\"1\" class=\"dataframe\">\n",
       "  <thead>\n",
       "    <tr style=\"text-align: right;\">\n",
       "      <th></th>\n",
       "      <th>params</th>\n",
       "      <th>mean_test_score</th>\n",
       "      <th>std_test_score</th>\n",
       "    </tr>\n",
       "  </thead>\n",
       "  <tbody>\n",
       "    <tr>\n",
       "      <th>7</th>\n",
       "      <td>{'criterion': 'mae', 'max_depth': 10, 'max_fea...</td>\n",
       "      <td>-1.102083e+14</td>\n",
       "      <td>5.905819e+13</td>\n",
       "    </tr>\n",
       "    <tr>\n",
       "      <th>8</th>\n",
       "      <td>{'criterion': 'mae', 'max_depth': 10, 'max_fea...</td>\n",
       "      <td>-1.102110e+14</td>\n",
       "      <td>5.906164e+13</td>\n",
       "    </tr>\n",
       "    <tr>\n",
       "      <th>4</th>\n",
       "      <td>{'criterion': 'mae', 'max_depth': 4, 'max_feat...</td>\n",
       "      <td>-1.102141e+14</td>\n",
       "      <td>5.906061e+13</td>\n",
       "    </tr>\n",
       "    <tr>\n",
       "      <th>5</th>\n",
       "      <td>{'criterion': 'mae', 'max_depth': 4, 'max_feat...</td>\n",
       "      <td>-1.102148e+14</td>\n",
       "      <td>5.906150e+13</td>\n",
       "    </tr>\n",
       "    <tr>\n",
       "      <th>2</th>\n",
       "      <td>{'criterion': 'mae', 'max_depth': 2, 'max_feat...</td>\n",
       "      <td>-1.102289e+14</td>\n",
       "      <td>5.901756e+13</td>\n",
       "    </tr>\n",
       "  </tbody>\n",
       "</table>\n",
       "</div>"
      ],
      "text/plain": [
       "                                              params  mean_test_score  \\\n",
       "7  {'criterion': 'mae', 'max_depth': 10, 'max_fea...    -1.102083e+14   \n",
       "8  {'criterion': 'mae', 'max_depth': 10, 'max_fea...    -1.102110e+14   \n",
       "4  {'criterion': 'mae', 'max_depth': 4, 'max_feat...    -1.102141e+14   \n",
       "5  {'criterion': 'mae', 'max_depth': 4, 'max_feat...    -1.102148e+14   \n",
       "2  {'criterion': 'mae', 'max_depth': 2, 'max_feat...    -1.102289e+14   \n",
       "\n",
       "   std_test_score  \n",
       "7    5.905819e+13  \n",
       "8    5.906164e+13  \n",
       "4    5.906061e+13  \n",
       "5    5.906150e+13  \n",
       "2    5.901756e+13  "
      ]
     },
     "execution_count": 12,
     "metadata": {},
     "output_type": "execute_result"
    }
   ],
   "source": [
    "resultadosRF"
   ]
  },
  {
   "cell_type": "code",
   "execution_count": 13,
   "id": "b46c940f",
   "metadata": {},
   "outputs": [
    {
     "data": {
      "text/html": [
       "<div>\n",
       "<style scoped>\n",
       "    .dataframe tbody tr th:only-of-type {\n",
       "        vertical-align: middle;\n",
       "    }\n",
       "\n",
       "    .dataframe tbody tr th {\n",
       "        vertical-align: top;\n",
       "    }\n",
       "\n",
       "    .dataframe thead th {\n",
       "        text-align: right;\n",
       "    }\n",
       "</style>\n",
       "<table border=\"1\" class=\"dataframe\">\n",
       "  <thead>\n",
       "    <tr style=\"text-align: right;\">\n",
       "      <th></th>\n",
       "      <th>params</th>\n",
       "      <th>mean_test_score</th>\n",
       "      <th>std_test_score</th>\n",
       "    </tr>\n",
       "  </thead>\n",
       "  <tbody>\n",
       "    <tr>\n",
       "      <th>5</th>\n",
       "      <td>{'learning_rate': 0.01, 'max_depth': 1, 'n_est...</td>\n",
       "      <td>-1.097099e+14</td>\n",
       "      <td>1.610527e+14</td>\n",
       "    </tr>\n",
       "    <tr>\n",
       "      <th>10</th>\n",
       "      <td>{'learning_rate': 0.001, 'max_depth': 1, 'n_es...</td>\n",
       "      <td>-1.097214e+14</td>\n",
       "      <td>1.621043e+14</td>\n",
       "    </tr>\n",
       "    <tr>\n",
       "      <th>0</th>\n",
       "      <td>{'learning_rate': 0.1, 'max_depth': 1, 'n_esti...</td>\n",
       "      <td>-1.103310e+14</td>\n",
       "      <td>1.608238e+14</td>\n",
       "    </tr>\n",
       "    <tr>\n",
       "      <th>11</th>\n",
       "      <td>{'learning_rate': 0.001, 'max_depth': 4, 'n_es...</td>\n",
       "      <td>-1.111979e+14</td>\n",
       "      <td>1.633497e+14</td>\n",
       "    </tr>\n",
       "    <tr>\n",
       "      <th>14</th>\n",
       "      <td>{'learning_rate': 0.001, 'max_depth': 13, 'n_e...</td>\n",
       "      <td>-1.120973e+14</td>\n",
       "      <td>1.626410e+14</td>\n",
       "    </tr>\n",
       "  </tbody>\n",
       "</table>\n",
       "</div>"
      ],
      "text/plain": [
       "                                               params  mean_test_score  \\\n",
       "5   {'learning_rate': 0.01, 'max_depth': 1, 'n_est...    -1.097099e+14   \n",
       "10  {'learning_rate': 0.001, 'max_depth': 1, 'n_es...    -1.097214e+14   \n",
       "0   {'learning_rate': 0.1, 'max_depth': 1, 'n_esti...    -1.103310e+14   \n",
       "11  {'learning_rate': 0.001, 'max_depth': 4, 'n_es...    -1.111979e+14   \n",
       "14  {'learning_rate': 0.001, 'max_depth': 13, 'n_e...    -1.120973e+14   \n",
       "\n",
       "    std_test_score  \n",
       "5     1.610527e+14  \n",
       "10    1.621043e+14  \n",
       "0     1.608238e+14  \n",
       "11    1.633497e+14  \n",
       "14    1.626410e+14  "
      ]
     },
     "execution_count": 13,
     "metadata": {},
     "output_type": "execute_result"
    }
   ],
   "source": [
    "resultadosGB"
   ]
  },
  {
   "cell_type": "markdown",
   "id": "d7562b40",
   "metadata": {},
   "source": [
    "#### Como o GridSearch considera o melhor modelo o que tem a maior pontuação, seu algoritmo precisa inverter o resultado para conseguirmos analisar métricas que para serem melhores precisam de resultados pequenos. Por isso as RMSE estão negativas, e os modelo do topo continuam sendo os melhores.\n"
   ]
  },
  {
   "cell_type": "markdown",
   "id": "07042144",
   "metadata": {},
   "source": [
    "#### O modelo Random Forest me gerou uma pontuação de 0.31187 no Kaggle"
   ]
  },
  {
   "attachments": {
    "image-3.png": {
     "image/png": "[encoded data removed]"
    }
   },
   "cell_type": "markdown",
   "id": "66604436",
   "metadata": {},
   "source": [
    "![image-3.png](attachment:image-3.png)"
   ]
  },
  {
   "cell_type": "markdown",
   "id": "8757a95d",
   "metadata": {},
   "source": [
    "#### O modelo KNN me gerou uma pontuação de 0.63064 no Kaggle"
   ]
  },
  {
   "attachments": {
    "image.png": {
     "image/png": "[encoded data removed]"
    }
   },
   "cell_type": "markdown",
   "id": "f7d5764a",
   "metadata": {},
   "source": [
    "![image.png](attachment:image.png)"
   ]
  },
  {
   "cell_type": "markdown",
   "id": "4a00c608",
   "metadata": {},
   "source": [
    "#### O modelo GradientBoost me gerou uma pontuação de 1.92905 no Kaggle"
   ]
  },
  {
   "attachments": {
    "image.png": {
     "image/png": "[encoded data removed]"
    }
   },
   "cell_type": "markdown",
   "id": "8e0cf71d",
   "metadata": {},
   "source": [
    "![image.png](attachment:image.png)"
   ]
  },
  {
   "cell_type": "markdown",
   "id": "cb1b1e72",
   "metadata": {},
   "source": [
    "#### Como queremos a menor pontuação, o modelo escolhido foi o RandomForest"
   ]
  },
  {
   "cell_type": "code",
   "execution_count": null,
   "id": "739f63a3",
   "metadata": {},
   "outputs": [],
   "source": [
    "resposta_final = respostaRF\n",
    "\n",
    "exemplo['inadimplente'] = respostaRF\n",
    "exemplo.to_csv('resposta1.csv', index= False)"
   ]
  }
 ],
 "metadata": {
  "kernelspec": {
   "display_name": "Python 3",
   "language": "python",
   "name": "python3"
  },
  "language_info": {
   "codemirror_mode": {
    "name": "ipython",
    "version": 3
   },
   "file_extension": ".py",
   "mimetype": "text/x-python",
   "name": "python",
   "nbconvert_exporter": "python",
   "pygments_lexer": "ipython3",
   "version": "3.8.10"
  }
 },
 "nbformat": 4,
 "nbformat_minor": 5
}
